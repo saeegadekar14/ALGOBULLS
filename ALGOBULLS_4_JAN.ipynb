{
 "cells": [
  {
   "cell_type": "code",
   "execution_count": 11,
   "id": "3b1ad3cb",
   "metadata": {},
   "outputs": [
    {
     "name": "stdout",
     "output_type": "stream",
     "text": [
      "Requirement already satisfied: alpha_vantage in c:\\users\\admin\\anaconda3\\lib\\site-packages (2.3.1)\n",
      "Requirement already satisfied: requests in c:\\users\\admin\\anaconda3\\lib\\site-packages (from alpha_vantage) (2.25.1)\n",
      "Requirement already satisfied: aiohttp in c:\\users\\admin\\anaconda3\\lib\\site-packages (from alpha_vantage) (3.8.3)\n",
      "Requirement already satisfied: attrs>=17.3.0 in c:\\users\\admin\\anaconda3\\lib\\site-packages (from aiohttp->alpha_vantage) (20.3.0)\n",
      "Requirement already satisfied: multidict<7.0,>=4.5 in c:\\users\\admin\\anaconda3\\lib\\site-packages (from aiohttp->alpha_vantage) (6.0.4)\n",
      "Requirement already satisfied: frozenlist>=1.1.1 in c:\\users\\admin\\anaconda3\\lib\\site-packages (from aiohttp->alpha_vantage) (1.3.3)\n",
      "Requirement already satisfied: aiosignal>=1.1.2 in c:\\users\\admin\\anaconda3\\lib\\site-packages (from aiohttp->alpha_vantage) (1.3.1)\n",
      "Requirement already satisfied: async-timeout<5.0,>=4.0.0a3 in c:\\users\\admin\\anaconda3\\lib\\site-packages (from aiohttp->alpha_vantage) (4.0.2)\n",
      "Requirement already satisfied: charset-normalizer<3.0,>=2.0 in c:\\users\\admin\\anaconda3\\lib\\site-packages (from aiohttp->alpha_vantage) (2.1.1)\n",
      "Requirement already satisfied: yarl<2.0,>=1.0 in c:\\users\\admin\\anaconda3\\lib\\site-packages (from aiohttp->alpha_vantage) (1.8.2)\n",
      "Requirement already satisfied: idna>=2.0 in c:\\users\\admin\\anaconda3\\lib\\site-packages (from yarl<2.0,>=1.0->aiohttp->alpha_vantage) (2.10)\n",
      "Requirement already satisfied: urllib3<1.27,>=1.21.1 in c:\\users\\admin\\anaconda3\\lib\\site-packages (from requests->alpha_vantage) (1.26.4)\n",
      "Requirement already satisfied: chardet<5,>=3.0.2 in c:\\users\\admin\\anaconda3\\lib\\site-packages (from requests->alpha_vantage) (4.0.0)\n",
      "Requirement already satisfied: certifi>=2017.4.17 in c:\\users\\admin\\anaconda3\\lib\\site-packages (from requests->alpha_vantage) (2020.12.5)\n",
      "Note: you may need to restart the kernel to use updated packages.\n"
     ]
    }
   ],
   "source": [
    "pip install alpha_vantage"
   ]
  },
  {
   "cell_type": "code",
   "execution_count": 12,
   "id": "93ed5cc2",
   "metadata": {},
   "outputs": [],
   "source": [
    "import pandas as pd\n",
    "import matplotlib.pyplot as plt\n",
    "from alpha_vantage.timeseries import TimeSeries\n",
    "import numpy as np\n"
   ]
  },
  {
   "cell_type": "code",
   "execution_count": 13,
   "id": "34d2d3fe",
   "metadata": {},
   "outputs": [],
   "source": [
    "API_key='LCGAAANH9ATJWBC2'\n",
    "ts = TimeSeries(key=API_key, output_format='pandas')\n"
   ]
  },
  {
   "cell_type": "code",
   "execution_count": 14,
   "id": "a611e18a",
   "metadata": {},
   "outputs": [],
   "source": [
    "class ScriptData:\n",
    "    def __init__(self, script):\n",
    "        self.script = script\n",
    "    \n",
    "   # @classmethod\n",
    "    def fetch_intraday_data(self):\n",
    "        data=ts.get_intraday(self.script)\n",
    "        return data[0]\n",
    "    def convert_intraday_data(self):\n",
    "        df=pd.DataFrame(self.fetch_intraday_data())    \n",
    "        return df\n"
   ]
  },
  {
   "cell_type": "code",
   "execution_count": 15,
   "id": "a3485ddf",
   "metadata": {},
   "outputs": [
    {
     "data": {
      "text/plain": [
       "(                     1. open  2. high  3. low  4. close  5. volume\n",
       " date                                                              \n",
       " 2023-01-03 20:00:00   89.310  89.3100   89.06   89.0700     8823.0\n",
       " 2023-01-03 19:45:00   89.390  89.4000   89.31   89.3300     3353.0\n",
       " 2023-01-03 19:30:00   89.300  89.3800   89.30   89.3800     1889.0\n",
       " 2023-01-03 19:15:00   89.260  89.3700   89.26   89.3600     2858.0\n",
       " 2023-01-03 19:00:00   89.260  89.2600   89.26   89.2600      782.0\n",
       " ...                      ...      ...     ...       ...        ...\n",
       " 2022-12-30 12:15:00   87.380  87.3940   87.18   87.3001   333114.0\n",
       " 2022-12-30 12:00:00   87.360  87.4500   87.21   87.3815   484196.0\n",
       " 2022-12-30 11:45:00   87.350  87.5138   87.33   87.3550   476826.0\n",
       " 2022-12-30 11:30:00   87.260  87.3900   87.15   87.3500   535506.0\n",
       " 2022-12-30 11:15:00   87.235  87.5795   87.21   87.2500   766819.0\n",
       " \n",
       " [100 rows x 5 columns],\n",
       " {'1. Information': 'Intraday (15min) open, high, low, close prices and volume',\n",
       "  '2. Symbol': 'GOOGL',\n",
       "  '3. Last Refreshed': '2023-01-03 20:00:00',\n",
       "  '4. Interval': '15min',\n",
       "  '5. Output Size': 'Compact',\n",
       "  '6. Time Zone': 'US/Eastern'})"
      ]
     },
     "execution_count": 15,
     "metadata": {},
     "output_type": "execute_result"
    }
   ],
   "source": [
    "script_data=ScriptData('GOOGL')\n",
    "script_data.fetch_intraday_data()\n",
    "script_data.convert_intraday_data()\n",
    "data=ts.get_intraday('GOOGL')\n",
    "data"
   ]
  },
  {
   "cell_type": "code",
   "execution_count": 16,
   "id": "9765324e",
   "metadata": {},
   "outputs": [
    {
     "name": "stdout",
     "output_type": "stream",
     "text": [
      "True\n"
     ]
    }
   ],
   "source": [
    "try:\n",
    "    ts.get_intraday('NVDA')\n",
    "    print('True')\n",
    "except ValueError:\n",
    "    print('False')"
   ]
  },
  {
   "cell_type": "code",
   "execution_count": 17,
   "id": "61e3e9a6",
   "metadata": {},
   "outputs": [
    {
     "name": "stdout",
     "output_type": "stream",
     "text": [
      "True\n"
     ]
    }
   ],
   "source": [
    "try:\n",
    "    ts.get_intraday('GOOGL')\n",
    "    print('True')\n",
    "except ValueError:\n",
    "    print('False')"
   ]
  },
  {
   "cell_type": "code",
   "execution_count": 18,
   "id": "639e3938",
   "metadata": {},
   "outputs": [
    {
     "data": {
      "text/html": [
       "<div>\n",
       "<style scoped>\n",
       "    .dataframe tbody tr th:only-of-type {\n",
       "        vertical-align: middle;\n",
       "    }\n",
       "\n",
       "    .dataframe tbody tr th {\n",
       "        vertical-align: top;\n",
       "    }\n",
       "\n",
       "    .dataframe thead th {\n",
       "        text-align: right;\n",
       "    }\n",
       "</style>\n",
       "<table border=\"1\" class=\"dataframe\">\n",
       "  <thead>\n",
       "    <tr style=\"text-align: right;\">\n",
       "      <th></th>\n",
       "      <th>1. open</th>\n",
       "      <th>2. high</th>\n",
       "      <th>3. low</th>\n",
       "      <th>4. close</th>\n",
       "      <th>5. volume</th>\n",
       "    </tr>\n",
       "    <tr>\n",
       "      <th>date</th>\n",
       "      <th></th>\n",
       "      <th></th>\n",
       "      <th></th>\n",
       "      <th></th>\n",
       "      <th></th>\n",
       "    </tr>\n",
       "  </thead>\n",
       "  <tbody>\n",
       "    <tr>\n",
       "      <th>2023-01-03 20:00:00</th>\n",
       "      <td>89.310</td>\n",
       "      <td>89.3100</td>\n",
       "      <td>89.06</td>\n",
       "      <td>89.0700</td>\n",
       "      <td>8823.0</td>\n",
       "    </tr>\n",
       "    <tr>\n",
       "      <th>2023-01-03 19:45:00</th>\n",
       "      <td>89.390</td>\n",
       "      <td>89.4000</td>\n",
       "      <td>89.31</td>\n",
       "      <td>89.3300</td>\n",
       "      <td>3353.0</td>\n",
       "    </tr>\n",
       "    <tr>\n",
       "      <th>2023-01-03 19:30:00</th>\n",
       "      <td>89.300</td>\n",
       "      <td>89.3800</td>\n",
       "      <td>89.30</td>\n",
       "      <td>89.3800</td>\n",
       "      <td>1889.0</td>\n",
       "    </tr>\n",
       "    <tr>\n",
       "      <th>2023-01-03 19:15:00</th>\n",
       "      <td>89.260</td>\n",
       "      <td>89.3700</td>\n",
       "      <td>89.26</td>\n",
       "      <td>89.3600</td>\n",
       "      <td>2858.0</td>\n",
       "    </tr>\n",
       "    <tr>\n",
       "      <th>2023-01-03 19:00:00</th>\n",
       "      <td>89.260</td>\n",
       "      <td>89.2600</td>\n",
       "      <td>89.26</td>\n",
       "      <td>89.2600</td>\n",
       "      <td>782.0</td>\n",
       "    </tr>\n",
       "    <tr>\n",
       "      <th>...</th>\n",
       "      <td>...</td>\n",
       "      <td>...</td>\n",
       "      <td>...</td>\n",
       "      <td>...</td>\n",
       "      <td>...</td>\n",
       "    </tr>\n",
       "    <tr>\n",
       "      <th>2022-12-30 12:15:00</th>\n",
       "      <td>87.380</td>\n",
       "      <td>87.3940</td>\n",
       "      <td>87.18</td>\n",
       "      <td>87.3001</td>\n",
       "      <td>333114.0</td>\n",
       "    </tr>\n",
       "    <tr>\n",
       "      <th>2022-12-30 12:00:00</th>\n",
       "      <td>87.360</td>\n",
       "      <td>87.4500</td>\n",
       "      <td>87.21</td>\n",
       "      <td>87.3815</td>\n",
       "      <td>484196.0</td>\n",
       "    </tr>\n",
       "    <tr>\n",
       "      <th>2022-12-30 11:45:00</th>\n",
       "      <td>87.350</td>\n",
       "      <td>87.5138</td>\n",
       "      <td>87.33</td>\n",
       "      <td>87.3550</td>\n",
       "      <td>476826.0</td>\n",
       "    </tr>\n",
       "    <tr>\n",
       "      <th>2022-12-30 11:30:00</th>\n",
       "      <td>87.260</td>\n",
       "      <td>87.3900</td>\n",
       "      <td>87.15</td>\n",
       "      <td>87.3500</td>\n",
       "      <td>535506.0</td>\n",
       "    </tr>\n",
       "    <tr>\n",
       "      <th>2022-12-30 11:15:00</th>\n",
       "      <td>87.235</td>\n",
       "      <td>87.5795</td>\n",
       "      <td>87.21</td>\n",
       "      <td>87.2500</td>\n",
       "      <td>766819.0</td>\n",
       "    </tr>\n",
       "  </tbody>\n",
       "</table>\n",
       "<p>100 rows × 5 columns</p>\n",
       "</div>"
      ],
      "text/plain": [
       "                     1. open  2. high  3. low  4. close  5. volume\n",
       "date                                                              \n",
       "2023-01-03 20:00:00   89.310  89.3100   89.06   89.0700     8823.0\n",
       "2023-01-03 19:45:00   89.390  89.4000   89.31   89.3300     3353.0\n",
       "2023-01-03 19:30:00   89.300  89.3800   89.30   89.3800     1889.0\n",
       "2023-01-03 19:15:00   89.260  89.3700   89.26   89.3600     2858.0\n",
       "2023-01-03 19:00:00   89.260  89.2600   89.26   89.2600      782.0\n",
       "...                      ...      ...     ...       ...        ...\n",
       "2022-12-30 12:15:00   87.380  87.3940   87.18   87.3001   333114.0\n",
       "2022-12-30 12:00:00   87.360  87.4500   87.21   87.3815   484196.0\n",
       "2022-12-30 11:45:00   87.350  87.5138   87.33   87.3550   476826.0\n",
       "2022-12-30 11:30:00   87.260  87.3900   87.15   87.3500   535506.0\n",
       "2022-12-30 11:15:00   87.235  87.5795   87.21   87.2500   766819.0\n",
       "\n",
       "[100 rows x 5 columns]"
      ]
     },
     "execution_count": 18,
     "metadata": {},
     "output_type": "execute_result"
    }
   ],
   "source": [
    "df=data[0]\n",
    "df"
   ]
  },
  {
   "cell_type": "code",
   "execution_count": 19,
   "id": "9cc5407e",
   "metadata": {},
   "outputs": [
    {
     "data": {
      "text/plain": [
       "pandas.core.frame.DataFrame"
      ]
     },
     "execution_count": 19,
     "metadata": {},
     "output_type": "execute_result"
    }
   ],
   "source": [
    "type(df)"
   ]
  },
  {
   "cell_type": "code",
   "execution_count": 20,
   "id": "0bef3a2a",
   "metadata": {},
   "outputs": [
    {
     "data": {
      "text/plain": [
       "date\n",
       "2023-01-03 20:00:00    89.0700\n",
       "2023-01-03 19:45:00    89.3300\n",
       "2023-01-03 19:30:00    89.3800\n",
       "2023-01-03 19:15:00    89.3600\n",
       "2023-01-03 19:00:00    89.2600\n",
       "                        ...   \n",
       "2022-12-30 12:15:00    87.3001\n",
       "2022-12-30 12:00:00    87.3815\n",
       "2022-12-30 11:45:00    87.3550\n",
       "2022-12-30 11:30:00    87.3500\n",
       "2022-12-30 11:15:00    87.2500\n",
       "Name: 4.close, Length: 100, dtype: float64"
      ]
     },
     "execution_count": 20,
     "metadata": {},
     "output_type": "execute_result"
    }
   ],
   "source": [
    "df.columns = df.columns.str.replace(' ', '')\n",
    "df.loc[:,\"4.close\"]"
   ]
  },
  {
   "cell_type": "code",
   "execution_count": 21,
   "id": "c6c91f39",
   "metadata": {},
   "outputs": [],
   "source": [
    "df['pandas_SMA_3'] = df.iloc[:,1].rolling(window=5).mean()"
   ]
  },
  {
   "cell_type": "code",
   "execution_count": 22,
   "id": "6b4f4e7b",
   "metadata": {},
   "outputs": [
    {
     "data": {
      "text/plain": [
       "date\n",
       "2023-01-03 20:00:00         NaN\n",
       "2023-01-03 19:45:00         NaN\n",
       "2023-01-03 19:30:00         NaN\n",
       "2023-01-03 19:15:00         NaN\n",
       "2023-01-03 19:00:00    89.34400\n",
       "                         ...   \n",
       "2022-12-30 12:15:00    87.47382\n",
       "2022-12-30 12:00:00    87.46982\n",
       "2022-12-30 11:45:00    87.47458\n",
       "2022-12-30 11:30:00    87.44956\n",
       "2022-12-30 11:15:00    87.46546\n",
       "Name: pandas_SMA_3, Length: 100, dtype: float64"
      ]
     },
     "execution_count": 22,
     "metadata": {},
     "output_type": "execute_result"
    }
   ],
   "source": [
    "df.loc[:,\"pandas_SMA_3\"]"
   ]
  },
  {
   "cell_type": "code",
   "execution_count": 23,
   "id": "e70b796f",
   "metadata": {},
   "outputs": [],
   "source": [
    "def indicator1(f,timeperiod):\n",
    "    p=ts.get_intraday(f)\n",
    "    df=p[0]\n",
    "    df['pandas_SMA'] = df.iloc[:,1].rolling(window=timeperiod).mean()\n",
    "    return df.loc[:,\"pandas_SMA\"]"
   ]
  },
  {
   "cell_type": "code",
   "execution_count": 24,
   "id": "3b8987c5",
   "metadata": {},
   "outputs": [
    {
     "data": {
      "text/plain": [
       "date\n",
       "2023-01-03 20:00:00         NaN\n",
       "2023-01-03 19:45:00         NaN\n",
       "2023-01-03 19:30:00         NaN\n",
       "2023-01-03 19:15:00         NaN\n",
       "2023-01-03 19:00:00    89.34400\n",
       "                         ...   \n",
       "2022-12-30 12:15:00    87.47382\n",
       "2022-12-30 12:00:00    87.46982\n",
       "2022-12-30 11:45:00    87.47458\n",
       "2022-12-30 11:30:00    87.44956\n",
       "2022-12-30 11:15:00    87.46546\n",
       "Name: pandas_SMA, Length: 100, dtype: float64"
      ]
     },
     "execution_count": 24,
     "metadata": {},
     "output_type": "execute_result"
    }
   ],
   "source": [
    "indicator1('GOOGL',5)"
   ]
  },
  {
   "cell_type": "code",
   "execution_count": 25,
   "id": "c3c5511c",
   "metadata": {},
   "outputs": [
    {
     "data": {
      "text/plain": [
       "date\n",
       "2023-01-03 20:00:00          NaN\n",
       "2023-01-03 19:45:00          NaN\n",
       "2023-01-03 19:30:00          NaN\n",
       "2023-01-03 19:15:00          NaN\n",
       "2023-01-03 19:00:00    125.05202\n",
       "                         ...    \n",
       "2022-12-30 12:15:00    129.02100\n",
       "2022-12-30 12:00:00    129.03800\n",
       "2022-12-30 11:45:00    128.97900\n",
       "2022-12-30 11:30:00    128.89000\n",
       "2022-12-30 11:15:00    128.87400\n",
       "Name: pandas_SMA, Length: 100, dtype: float64"
      ]
     },
     "execution_count": 25,
     "metadata": {},
     "output_type": "execute_result"
    }
   ],
   "source": [
    "indicator1('AAPL',5)"
   ]
  },
  {
   "cell_type": "code",
   "execution_count": 26,
   "id": "278c125a",
   "metadata": {},
   "outputs": [],
   "source": [
    "class Strategy:\n",
    "    def __init__(self, script, timeperiod):\n",
    "        self.script = script\n",
    "        self.timeperiod = timeperiod\n",
    "    def get_signal(self):\n",
    "        data=ts.get_intraday(self.script)\n",
    "        d1=data[0]\n",
    "        d2=pd.DataFrame(list(zip(d1.loc[:,\"4. close\"], indicator1(self.script,self.timeperiod))), columns =['close_data', 'indicator_data'])\n",
    "        d3 = pd.DataFrame()\n",
    "        f=list()\n",
    "        if((d2.loc[0, \"indicator_data\"]>d2.loc[0, \"close_data\"])):\n",
    "                f.append(\"Buy\")\n",
    "        elif((d2.loc[0, \"indicator_data\"]<d2.loc[0, \"close_data\"])):\n",
    "                f.append(\"Sell\")\n",
    "        else:\n",
    "            f.append(\"No signal\")\n",
    "        for i in range(1,len(d2),1):\n",
    "            if((d2.loc[i-1, \"close_data\"]>d2.loc[i-1, \"indicator_data\"])and(d2.loc[i, \"close_data\"]<d2.loc[i, \"indicator_data\"])):\n",
    "                f.append(\"Buy\")\n",
    "            elif((d2.loc[i-1, \"indicator_data\"]>d2.loc[i-1, \"close_data\"])and(d2.loc[i, \"indicator_data\"]<d2.loc[i, \"close_data\"])):\n",
    "                f.append(\"Sell\")\n",
    "            else:\n",
    "                f.append(\"No signal\")\n",
    "     \n",
    "        d1.insert(0,'signals',f)\n",
    "        newdf=d1.loc[(d1['signals']==\"Buy\")|(d1['signals']==\"Sell\")]\n",
    "        #newdf = d1.loc[d1['signals'] != \"No signal\"]\n",
    "        \n",
    "        return newdf['signals']\n",
    "                "
   ]
  },
  {
   "cell_type": "code",
   "execution_count": 27,
   "id": "bda85206",
   "metadata": {
    "scrolled": false
   },
   "outputs": [
    {
     "data": {
      "text/plain": [
       "date\n",
       "2023-01-03 18:00:00    Sell\n",
       "2023-01-03 17:45:00     Buy\n",
       "2023-01-03 15:30:00    Sell\n",
       "2023-01-03 15:00:00     Buy\n",
       "2023-01-03 11:30:00    Sell\n",
       "2023-01-03 11:15:00     Buy\n",
       "2023-01-03 11:00:00    Sell\n",
       "2023-01-03 10:45:00     Buy\n",
       "2023-01-03 09:45:00    Sell\n",
       "2023-01-03 09:30:00     Buy\n",
       "2023-01-03 06:30:00    Sell\n",
       "2023-01-03 05:45:00     Buy\n",
       "2023-01-03 05:15:00    Sell\n",
       "2023-01-03 04:30:00     Buy\n",
       "2022-12-30 17:00:00    Sell\n",
       "2022-12-30 16:30:00     Buy\n",
       "2022-12-30 13:00:00    Sell\n",
       "2022-12-30 12:30:00     Buy\n",
       "Name: signals, dtype: object"
      ]
     },
     "execution_count": 27,
     "metadata": {},
     "output_type": "execute_result"
    }
   ],
   "source": [
    "p=Strategy('GOOGL',5)\n",
    "q=p.get_signal()\n",
    "q"
   ]
  },
  {
   "cell_type": "code",
   "execution_count": 54,
   "id": "92d79777",
   "metadata": {},
   "outputs": [
    {
     "data": {
      "text/html": [
       "<div>\n",
       "<style scoped>\n",
       "    .dataframe tbody tr th:only-of-type {\n",
       "        vertical-align: middle;\n",
       "    }\n",
       "\n",
       "    .dataframe tbody tr th {\n",
       "        vertical-align: top;\n",
       "    }\n",
       "\n",
       "    .dataframe thead th {\n",
       "        text-align: right;\n",
       "    }\n",
       "</style>\n",
       "<table border=\"1\" class=\"dataframe\">\n",
       "  <thead>\n",
       "    <tr style=\"text-align: right;\">\n",
       "      <th></th>\n",
       "      <th>Open</th>\n",
       "      <th>High</th>\n",
       "      <th>Low</th>\n",
       "      <th>Close</th>\n",
       "      <th>5. volume</th>\n",
       "    </tr>\n",
       "    <tr>\n",
       "      <th>date</th>\n",
       "      <th></th>\n",
       "      <th></th>\n",
       "      <th></th>\n",
       "      <th></th>\n",
       "      <th></th>\n",
       "    </tr>\n",
       "  </thead>\n",
       "  <tbody>\n",
       "    <tr>\n",
       "      <th>2023-01-03 20:00:00</th>\n",
       "      <td>89.31</td>\n",
       "      <td>89.31</td>\n",
       "      <td>89.06</td>\n",
       "      <td>89.07</td>\n",
       "      <td>8823.0</td>\n",
       "    </tr>\n",
       "    <tr>\n",
       "      <th>2023-01-03 19:45:00</th>\n",
       "      <td>89.39</td>\n",
       "      <td>89.40</td>\n",
       "      <td>89.31</td>\n",
       "      <td>89.33</td>\n",
       "      <td>3353.0</td>\n",
       "    </tr>\n",
       "    <tr>\n",
       "      <th>2023-01-03 19:30:00</th>\n",
       "      <td>89.30</td>\n",
       "      <td>89.38</td>\n",
       "      <td>89.30</td>\n",
       "      <td>89.38</td>\n",
       "      <td>1889.0</td>\n",
       "    </tr>\n",
       "    <tr>\n",
       "      <th>2023-01-03 19:15:00</th>\n",
       "      <td>89.26</td>\n",
       "      <td>89.37</td>\n",
       "      <td>89.26</td>\n",
       "      <td>89.36</td>\n",
       "      <td>2858.0</td>\n",
       "    </tr>\n",
       "    <tr>\n",
       "      <th>2023-01-03 19:00:00</th>\n",
       "      <td>89.26</td>\n",
       "      <td>89.26</td>\n",
       "      <td>89.26</td>\n",
       "      <td>89.26</td>\n",
       "      <td>782.0</td>\n",
       "    </tr>\n",
       "  </tbody>\n",
       "</table>\n",
       "</div>"
      ],
      "text/plain": [
       "                      Open   High    Low  Close  5. volume\n",
       "date                                                      \n",
       "2023-01-03 20:00:00  89.31  89.31  89.06  89.07     8823.0\n",
       "2023-01-03 19:45:00  89.39  89.40  89.31  89.33     3353.0\n",
       "2023-01-03 19:30:00  89.30  89.38  89.30  89.38     1889.0\n",
       "2023-01-03 19:15:00  89.26  89.37  89.26  89.36     2858.0\n",
       "2023-01-03 19:00:00  89.26  89.26  89.26  89.26      782.0"
      ]
     },
     "execution_count": 54,
     "metadata": {},
     "output_type": "execute_result"
    }
   ],
   "source": [
    "df.rename(columns={\"1. open\": \"Open\", \"2. high\":\"High\", \"3. low\":\"Low\", \"4. close\": \"Close\"}, inplace=True)\n",
    "df.head()"
   ]
  },
  {
   "cell_type": "code",
   "execution_count": 56,
   "id": "d01d60cc",
   "metadata": {},
   "outputs": [
    {
     "name": "stdout",
     "output_type": "stream",
     "text": [
      "Requirement already satisfied: mplfinance in c:\\users\\admin\\anaconda3\\lib\\site-packages (0.12.9b7)\n",
      "Requirement already satisfied: pandas in c:\\users\\admin\\anaconda3\\lib\\site-packages (from mplfinance) (1.2.4)\n",
      "Requirement already satisfied: matplotlib in c:\\users\\admin\\anaconda3\\lib\\site-packages (from mplfinance) (3.3.4)\n",
      "Requirement already satisfied: numpy>=1.15 in c:\\users\\admin\\anaconda3\\lib\\site-packages (from matplotlib->mplfinance) (1.20.1)\n",
      "Requirement already satisfied: python-dateutil>=2.1 in c:\\users\\admin\\anaconda3\\lib\\site-packages (from matplotlib->mplfinance) (2.8.1)\n",
      "Requirement already satisfied: cycler>=0.10 in c:\\users\\admin\\anaconda3\\lib\\site-packages (from matplotlib->mplfinance) (0.10.0)\n",
      "Requirement already satisfied: kiwisolver>=1.0.1 in c:\\users\\admin\\anaconda3\\lib\\site-packages (from matplotlib->mplfinance) (1.3.1)\n",
      "Requirement already satisfied: pillow>=6.2.0 in c:\\users\\admin\\anaconda3\\lib\\site-packages (from matplotlib->mplfinance) (8.2.0)\n",
      "Requirement already satisfied: pyparsing!=2.0.4,!=2.1.2,!=2.1.6,>=2.0.3 in c:\\users\\admin\\anaconda3\\lib\\site-packages (from matplotlib->mplfinance) (2.4.7)\n",
      "Requirement already satisfied: six in c:\\users\\admin\\anaconda3\\lib\\site-packages (from cycler>=0.10->matplotlib->mplfinance) (1.15.0)\n",
      "Requirement already satisfied: pytz>=2017.3 in c:\\users\\admin\\anaconda3\\lib\\site-packages (from pandas->mplfinance) (2021.1)\n",
      "Note: you may need to restart the kernel to use updated packages.\n"
     ]
    }
   ],
   "source": [
    "pip install --upgrade mplfinance"
   ]
  },
  {
   "cell_type": "code",
   "execution_count": 59,
   "id": "7e506429",
   "metadata": {},
   "outputs": [],
   "source": [
    "from matplotlib.pyplot import title\n",
    "import requests\n",
    "import pandas as pd\n",
    "import mplfinance as mpl"
   ]
  },
  {
   "cell_type": "code",
   "execution_count": 61,
   "id": "6b6abdcf",
   "metadata": {},
   "outputs": [
    {
     "data": {
      "image/png": "[encoded data removed]",
      "text/plain": [
       "<Figure size 800x575 with 2 Axes>"
      ]
     },
     "metadata": {},
     "output_type": "display_data"
    }
   ],
   "source": [
    "mpl.plot(\n",
    "    df,\n",
    "    type=\"candle\", \n",
    "    mav =(3,6,9),  \n",
    "    style=\"yahoo\"\n",
    "    )"
   ]
  },
  {
   "cell_type": "code",
   "execution_count": null,
   "id": "f5cfb3a6",
   "metadata": {},
   "outputs": [],
   "source": []
  }
 ],
 "metadata": {
  "kernelspec": {
   "display_name": "Python 3",
   "language": "python",
   "name": "python3"
  },
  "language_info": {
   "codemirror_mode": {
    "name": "ipython",
    "version": 3
   },
   "file_extension": ".py",
   "mimetype": "text/x-python",
   "name": "python",
   "nbconvert_exporter": "python",
   "pygments_lexer": "ipython3",
   "version": "3.8.8"
  }
 },
 "nbformat": 4,
 "nbformat_minor": 5
}
