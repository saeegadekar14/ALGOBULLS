{
 "cells": [
  {
   "cell_type": "code",
   "execution_count": 1,
   "id": "3b1ad3cb",
   "metadata": {},
   "outputs": [
    {
     "name": "stdout",
     "output_type": "stream",
     "text": [
      "Requirement already satisfied: alpha_vantage in c:\\users\\admin\\anaconda3\\lib\\site-packages (2.3.1)Note: you may need to restart the kernel to use updated packages.\n",
      "Requirement already satisfied: requests in c:\\users\\admin\\anaconda3\\lib\\site-packages (from alpha_vantage) (2.25.1)\n",
      "Requirement already satisfied: aiohttp in c:\\users\\admin\\anaconda3\\lib\\site-packages (from alpha_vantage) (3.8.3)\n",
      "Requirement already satisfied: charset-normalizer<3.0,>=2.0 in c:\\users\\admin\\anaconda3\\lib\\site-packages (from aiohttp->alpha_vantage) (2.1.1)\n",
      "Requirement already satisfied: async-timeout<5.0,>=4.0.0a3 in c:\\users\\admin\\anaconda3\\lib\\site-packages (from aiohttp->alpha_vantage) (4.0.2)\n",
      "Requirement already satisfied: yarl<2.0,>=1.0 in c:\\users\\admin\\anaconda3\\lib\\site-packages (from aiohttp->alpha_vantage) (1.8.2)\n",
      "Requirement already satisfied: frozenlist>=1.1.1 in c:\\users\\admin\\anaconda3\\lib\\site-packages (from aiohttp->alpha_vantage) (1.3.3)\n",
      "Requirement already satisfied: aiosignal>=1.1.2 in c:\\users\\admin\\anaconda3\\lib\\site-packages (from aiohttp->alpha_vantage) (1.3.1)\n",
      "Requirement already satisfied: multidict<7.0,>=4.5 in c:\\users\\admin\\anaconda3\\lib\\site-packages (from aiohttp->alpha_vantage) (6.0.4)\n",
      "Requirement already satisfied: attrs>=17.3.0 in c:\\users\\admin\\anaconda3\\lib\\site-packages (from aiohttp->alpha_vantage) (20.3.0)\n",
      "Requirement already satisfied: idna>=2.0 in c:\\users\\admin\\anaconda3\\lib\\site-packages (from yarl<2.0,>=1.0->aiohttp->alpha_vantage) (2.10)\n",
      "Requirement already satisfied: chardet<5,>=3.0.2 in c:\\users\\admin\\anaconda3\\lib\\site-packages (from requests->alpha_vantage) (4.0.0)\n",
      "Requirement already satisfied: certifi>=2017.4.17 in c:\\users\\admin\\anaconda3\\lib\\site-packages (from requests->alpha_vantage) (2020.12.5)\n",
      "Requirement already satisfied: urllib3<1.27,>=1.21.1 in c:\\users\\admin\\anaconda3\\lib\\site-packages (from requests->alpha_vantage) (1.26.4)\n",
      "\n"
     ]
    }
   ],
   "source": [
    "pip install alpha_vantage"
   ]
  },
  {
   "cell_type": "code",
   "execution_count": 2,
   "id": "93ed5cc2",
   "metadata": {},
   "outputs": [],
   "source": [
    "import pandas as pd\n",
    "import matplotlib.pyplot as plt\n",
    "from alpha_vantage.timeseries import TimeSeries\n",
    "import numpy as np\n"
   ]
  },
  {
   "cell_type": "code",
   "execution_count": 3,
   "id": "34d2d3fe",
   "metadata": {},
   "outputs": [],
   "source": [
    "API_key='LCGAAANH9ATJWBC2'\n",
    "ts = TimeSeries(key=API_key, output_format='pandas')\n"
   ]
  },
  {
   "cell_type": "code",
   "execution_count": 4,
   "id": "a611e18a",
   "metadata": {},
   "outputs": [],
   "source": [
    "class ScriptData:\n",
    "    def __init__(self, script):\n",
    "        self.script = script\n",
    "    \n",
    "   # @classmethod\n",
    "    def fetch_intraday_data(self):\n",
    "        data=ts.get_intraday(self.script)\n",
    "        return data\n",
    "    def convert_intraday_data(self):\n",
    "        df=pd.DataFrame(self.fetch_intraday_data())    \n",
    "        return df\n"
   ]
  },
  {
   "cell_type": "code",
   "execution_count": 18,
   "id": "a3485ddf",
   "metadata": {},
   "outputs": [
    {
     "name": "stderr",
     "output_type": "stream",
     "text": [
      "C:\\Users\\admin\\anaconda3\\lib\\site-packages\\pandas\\core\\internals\\construction.py:309: VisibleDeprecationWarning: Creating an ndarray from ragged nested sequences (which is a list-or-tuple of lists-or-tuples-or ndarrays with different lengths or shapes) is deprecated. If you meant to do this, you must specify 'dtype=object' when creating the ndarray.\n",
      "  values = np.array([convert(v) for v in values])\n"
     ]
    },
    {
     "data": {
      "text/plain": [
       "(                     1. open  2. high  3. low  4. close  5. volume\n",
       " date                                                              \n",
       " 2022-12-23 20:00:00  89.1100  89.1200  89.050   89.0500     2135.0\n",
       " 2022-12-23 19:45:00  89.0900  89.0900  89.090   89.0900      140.0\n",
       " 2022-12-23 19:30:00  89.1900  89.1900  89.190   89.1900     1672.0\n",
       " 2022-12-23 19:15:00  89.0900  89.0900  89.090   89.0900      101.0\n",
       " 2022-12-23 19:00:00  89.0500  89.0900  89.050   89.0900     1861.0\n",
       " ...                      ...      ...     ...       ...        ...\n",
       " 2022-12-22 12:00:00  87.1933  87.3599  87.070   87.3400   588398.0\n",
       " 2022-12-22 11:45:00  87.2350  87.3300  87.080   87.1918   783729.0\n",
       " 2022-12-22 11:30:00  87.3400  87.4458  87.209   87.2350   528900.0\n",
       " 2022-12-22 11:15:00  87.1250  87.5850  87.100   87.3400   711610.0\n",
       " 2022-12-22 11:00:00  87.2700  87.4400  87.070   87.1300   749132.0\n",
       " \n",
       " [100 rows x 5 columns],\n",
       " {'1. Information': 'Intraday (15min) open, high, low, close prices and volume',\n",
       "  '2. Symbol': 'GOOGL',\n",
       "  '3. Last Refreshed': '2022-12-23 20:00:00',\n",
       "  '4. Interval': '15min',\n",
       "  '5. Output Size': 'Compact',\n",
       "  '6. Time Zone': 'US/Eastern'})"
      ]
     },
     "execution_count": 18,
     "metadata": {},
     "output_type": "execute_result"
    }
   ],
   "source": [
    "script_data=ScriptData('GOOGL')\n",
    "script_data.fetch_intraday_data()\n",
    "script_data.convert_intraday_data()\n",
    "data=ts.get_intraday('GOOGL')\n",
    "data"
   ]
  },
  {
   "cell_type": "code",
   "execution_count": 6,
   "id": "9765324e",
   "metadata": {},
   "outputs": [
    {
     "name": "stdout",
     "output_type": "stream",
     "text": [
      "True\n"
     ]
    }
   ],
   "source": [
    "try:\n",
    "    ts.get_intraday('NVDA')\n",
    "    print('True')\n",
    "except ValueError:\n",
    "    print('False')"
   ]
  },
  {
   "cell_type": "code",
   "execution_count": 7,
   "id": "61e3e9a6",
   "metadata": {},
   "outputs": [
    {
     "name": "stdout",
     "output_type": "stream",
     "text": [
      "True\n"
     ]
    }
   ],
   "source": [
    "try:\n",
    "    ts.get_intraday('GOOGL')\n",
    "    print('True')\n",
    "except ValueError:\n",
    "    print('False')"
   ]
  },
  {
   "cell_type": "code",
   "execution_count": 8,
   "id": "639e3938",
   "metadata": {},
   "outputs": [
    {
     "data": {
      "text/html": [
       "<div>\n",
       "<style scoped>\n",
       "    .dataframe tbody tr th:only-of-type {\n",
       "        vertical-align: middle;\n",
       "    }\n",
       "\n",
       "    .dataframe tbody tr th {\n",
       "        vertical-align: top;\n",
       "    }\n",
       "\n",
       "    .dataframe thead th {\n",
       "        text-align: right;\n",
       "    }\n",
       "</style>\n",
       "<table border=\"1\" class=\"dataframe\">\n",
       "  <thead>\n",
       "    <tr style=\"text-align: right;\">\n",
       "      <th></th>\n",
       "      <th>1. open</th>\n",
       "      <th>2. high</th>\n",
       "      <th>3. low</th>\n",
       "      <th>4. close</th>\n",
       "      <th>5. volume</th>\n",
       "    </tr>\n",
       "    <tr>\n",
       "      <th>date</th>\n",
       "      <th></th>\n",
       "      <th></th>\n",
       "      <th></th>\n",
       "      <th></th>\n",
       "      <th></th>\n",
       "    </tr>\n",
       "  </thead>\n",
       "  <tbody>\n",
       "    <tr>\n",
       "      <th>2022-12-23 20:00:00</th>\n",
       "      <td>89.1100</td>\n",
       "      <td>89.1200</td>\n",
       "      <td>89.050</td>\n",
       "      <td>89.0500</td>\n",
       "      <td>2135.0</td>\n",
       "    </tr>\n",
       "    <tr>\n",
       "      <th>2022-12-23 19:45:00</th>\n",
       "      <td>89.0900</td>\n",
       "      <td>89.0900</td>\n",
       "      <td>89.090</td>\n",
       "      <td>89.0900</td>\n",
       "      <td>140.0</td>\n",
       "    </tr>\n",
       "    <tr>\n",
       "      <th>2022-12-23 19:30:00</th>\n",
       "      <td>89.1900</td>\n",
       "      <td>89.1900</td>\n",
       "      <td>89.190</td>\n",
       "      <td>89.1900</td>\n",
       "      <td>1672.0</td>\n",
       "    </tr>\n",
       "    <tr>\n",
       "      <th>2022-12-23 19:15:00</th>\n",
       "      <td>89.0900</td>\n",
       "      <td>89.0900</td>\n",
       "      <td>89.090</td>\n",
       "      <td>89.0900</td>\n",
       "      <td>101.0</td>\n",
       "    </tr>\n",
       "    <tr>\n",
       "      <th>2022-12-23 19:00:00</th>\n",
       "      <td>89.0500</td>\n",
       "      <td>89.0900</td>\n",
       "      <td>89.050</td>\n",
       "      <td>89.0900</td>\n",
       "      <td>1861.0</td>\n",
       "    </tr>\n",
       "    <tr>\n",
       "      <th>...</th>\n",
       "      <td>...</td>\n",
       "      <td>...</td>\n",
       "      <td>...</td>\n",
       "      <td>...</td>\n",
       "      <td>...</td>\n",
       "    </tr>\n",
       "    <tr>\n",
       "      <th>2022-12-22 12:00:00</th>\n",
       "      <td>87.1933</td>\n",
       "      <td>87.3599</td>\n",
       "      <td>87.070</td>\n",
       "      <td>87.3400</td>\n",
       "      <td>588398.0</td>\n",
       "    </tr>\n",
       "    <tr>\n",
       "      <th>2022-12-22 11:45:00</th>\n",
       "      <td>87.2350</td>\n",
       "      <td>87.3300</td>\n",
       "      <td>87.080</td>\n",
       "      <td>87.1918</td>\n",
       "      <td>783729.0</td>\n",
       "    </tr>\n",
       "    <tr>\n",
       "      <th>2022-12-22 11:30:00</th>\n",
       "      <td>87.3400</td>\n",
       "      <td>87.4458</td>\n",
       "      <td>87.209</td>\n",
       "      <td>87.2350</td>\n",
       "      <td>528900.0</td>\n",
       "    </tr>\n",
       "    <tr>\n",
       "      <th>2022-12-22 11:15:00</th>\n",
       "      <td>87.1250</td>\n",
       "      <td>87.5850</td>\n",
       "      <td>87.100</td>\n",
       "      <td>87.3400</td>\n",
       "      <td>711610.0</td>\n",
       "    </tr>\n",
       "    <tr>\n",
       "      <th>2022-12-22 11:00:00</th>\n",
       "      <td>87.2700</td>\n",
       "      <td>87.4400</td>\n",
       "      <td>87.070</td>\n",
       "      <td>87.1300</td>\n",
       "      <td>749132.0</td>\n",
       "    </tr>\n",
       "  </tbody>\n",
       "</table>\n",
       "<p>100 rows × 5 columns</p>\n",
       "</div>"
      ],
      "text/plain": [
       "                     1. open  2. high  3. low  4. close  5. volume\n",
       "date                                                              \n",
       "2022-12-23 20:00:00  89.1100  89.1200  89.050   89.0500     2135.0\n",
       "2022-12-23 19:45:00  89.0900  89.0900  89.090   89.0900      140.0\n",
       "2022-12-23 19:30:00  89.1900  89.1900  89.190   89.1900     1672.0\n",
       "2022-12-23 19:15:00  89.0900  89.0900  89.090   89.0900      101.0\n",
       "2022-12-23 19:00:00  89.0500  89.0900  89.050   89.0900     1861.0\n",
       "...                      ...      ...     ...       ...        ...\n",
       "2022-12-22 12:00:00  87.1933  87.3599  87.070   87.3400   588398.0\n",
       "2022-12-22 11:45:00  87.2350  87.3300  87.080   87.1918   783729.0\n",
       "2022-12-22 11:30:00  87.3400  87.4458  87.209   87.2350   528900.0\n",
       "2022-12-22 11:15:00  87.1250  87.5850  87.100   87.3400   711610.0\n",
       "2022-12-22 11:00:00  87.2700  87.4400  87.070   87.1300   749132.0\n",
       "\n",
       "[100 rows x 5 columns]"
      ]
     },
     "execution_count": 8,
     "metadata": {},
     "output_type": "execute_result"
    }
   ],
   "source": [
    "df=data[0]\n",
    "df"
   ]
  },
  {
   "cell_type": "code",
   "execution_count": 9,
   "id": "9cc5407e",
   "metadata": {},
   "outputs": [
    {
     "data": {
      "text/plain": [
       "pandas.core.frame.DataFrame"
      ]
     },
     "execution_count": 9,
     "metadata": {},
     "output_type": "execute_result"
    }
   ],
   "source": [
    "type(df)"
   ]
  },
  {
   "cell_type": "code",
   "execution_count": 10,
   "id": "0bef3a2a",
   "metadata": {},
   "outputs": [
    {
     "data": {
      "text/plain": [
       "date\n",
       "2022-12-23 20:00:00    89.0500\n",
       "2022-12-23 19:45:00    89.0900\n",
       "2022-12-23 19:30:00    89.1900\n",
       "2022-12-23 19:15:00    89.0900\n",
       "2022-12-23 19:00:00    89.0900\n",
       "                        ...   \n",
       "2022-12-22 12:00:00    87.3400\n",
       "2022-12-22 11:45:00    87.1918\n",
       "2022-12-22 11:30:00    87.2350\n",
       "2022-12-22 11:15:00    87.3400\n",
       "2022-12-22 11:00:00    87.1300\n",
       "Name: 4.close, Length: 100, dtype: float64"
      ]
     },
     "execution_count": 10,
     "metadata": {},
     "output_type": "execute_result"
    }
   ],
   "source": [
    "df.columns = df.columns.str.replace(' ', '')\n",
    "df.loc[:,\"4.close\"]"
   ]
  },
  {
   "cell_type": "code",
   "execution_count": 11,
   "id": "c6c91f39",
   "metadata": {},
   "outputs": [],
   "source": [
    "df['pandas_SMA_3'] = df.iloc[:,1].rolling(window=5).mean()"
   ]
  },
  {
   "cell_type": "code",
   "execution_count": 12,
   "id": "6b4f4e7b",
   "metadata": {},
   "outputs": [
    {
     "data": {
      "text/plain": [
       "date\n",
       "2022-12-23 20:00:00         NaN\n",
       "2022-12-23 19:45:00         NaN\n",
       "2022-12-23 19:30:00         NaN\n",
       "2022-12-23 19:15:00         NaN\n",
       "2022-12-23 19:00:00    89.11600\n",
       "                         ...   \n",
       "2022-12-22 12:00:00    87.17998\n",
       "2022-12-22 11:45:00    87.27398\n",
       "2022-12-22 11:30:00    87.36514\n",
       "2022-12-22 11:15:00    87.42214\n",
       "2022-12-22 11:00:00    87.43214\n",
       "Name: pandas_SMA_3, Length: 100, dtype: float64"
      ]
     },
     "execution_count": 12,
     "metadata": {},
     "output_type": "execute_result"
    }
   ],
   "source": [
    "df.loc[:,\"pandas_SMA_3\"]"
   ]
  },
  {
   "cell_type": "code",
   "execution_count": 13,
   "id": "e70b796f",
   "metadata": {},
   "outputs": [],
   "source": [
    "def indicator1(f,timeperiod):\n",
    "    p=ts.get_intraday(f)\n",
    "    df=p[0]\n",
    "    df['pandas_SMA'] = df.iloc[:,1].rolling(window=timeperiod).mean()\n",
    "    return df.loc[:,\"pandas_SMA\"]"
   ]
  },
  {
   "cell_type": "code",
   "execution_count": 16,
   "id": "3b8987c5",
   "metadata": {},
   "outputs": [
    {
     "data": {
      "text/plain": [
       "date\n",
       "2022-12-23 20:00:00         NaN\n",
       "2022-12-23 19:45:00         NaN\n",
       "2022-12-23 19:30:00         NaN\n",
       "2022-12-23 19:15:00         NaN\n",
       "2022-12-23 19:00:00    89.11600\n",
       "                         ...   \n",
       "2022-12-22 12:00:00    87.17998\n",
       "2022-12-22 11:45:00    87.27398\n",
       "2022-12-22 11:30:00    87.36514\n",
       "2022-12-22 11:15:00    87.42214\n",
       "2022-12-22 11:00:00    87.43214\n",
       "Name: pandas_SMA, Length: 100, dtype: float64"
      ]
     },
     "execution_count": 16,
     "metadata": {},
     "output_type": "execute_result"
    }
   ],
   "source": [
    "indicator1('GOOGL',5)"
   ]
  },
  {
   "cell_type": "code",
   "execution_count": 17,
   "id": "c3c5511c",
   "metadata": {},
   "outputs": [
    {
     "data": {
      "text/plain": [
       "date\n",
       "2022-12-23 20:00:00          NaN\n",
       "2022-12-23 19:45:00          NaN\n",
       "2022-12-23 19:30:00          NaN\n",
       "2022-12-23 19:15:00          NaN\n",
       "2022-12-23 19:00:00    131.75000\n",
       "                         ...    \n",
       "2022-12-22 12:15:00    131.14262\n",
       "2022-12-22 12:00:00    131.29142\n",
       "2022-12-22 11:45:00    131.42292\n",
       "2022-12-22 11:30:00    131.62866\n",
       "2022-12-22 11:15:00    131.68818\n",
       "Name: pandas_SMA, Length: 100, dtype: float64"
      ]
     },
     "execution_count": 17,
     "metadata": {},
     "output_type": "execute_result"
    }
   ],
   "source": [
    "indicator1('AAPL',5)"
   ]
  },
  {
   "cell_type": "code",
   "execution_count": null,
   "id": "eebb7379",
   "metadata": {},
   "outputs": [],
   "source": []
  }
 ],
 "metadata": {
  "kernelspec": {
   "display_name": "Python 3",
   "language": "python",
   "name": "python3"
  },
  "language_info": {
   "codemirror_mode": {
    "name": "ipython",
    "version": 3
   },
   "file_extension": ".py",
   "mimetype": "text/x-python",
   "name": "python",
   "nbconvert_exporter": "python",
   "pygments_lexer": "ipython3",
   "version": "3.8.8"
  }
 },
 "nbformat": 4,
 "nbformat_minor": 5
}
